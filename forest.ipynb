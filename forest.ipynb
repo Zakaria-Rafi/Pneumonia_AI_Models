{
 "cells": [
  {
   "cell_type": "markdown",
   "metadata": {},
   "source": [
    "# Chest X-ray Classification Random Forest Model\n",
    "\n",
    "The project architecture is as follows:\n",
    "\n",
    "| Root | Directory / File | Description |\n",
    "|------|------------------|-------------|\n",
    "| `./` | `config.py` | Configuration file for the project. |\n",
    "| `./` | `main.ipynb` | Main Jupyter notebook for running the project. |\n",
    "| `src/` | `models/` | Directory containing model definitions. |\n",
    "| `src/` | `datasets/` | Directory containing dataset definitions. |\n",
    "| `src/` | `utils/` | Directory containing utility functions. | \n"
   ]
  },
  {
   "cell_type": "markdown",
   "metadata": {},
   "source": [
    "## Installations"
   ]
  },
  {
   "cell_type": "markdown",
   "metadata": {},
   "source": [
    "The project use Python 3.12.9\n",
    "\n",
    "You can found urls to download the datasets in the `datasets_urls.txt` file"
   ]
  },
  {
   "cell_type": "code",
   "execution_count": null,
   "metadata": {},
   "outputs": [],
   "source": [
    "%pip install -qr ./requirements.txt"
   ]
  },
  {
   "cell_type": "markdown",
   "metadata": {},
   "source": [
    "## Imports"
   ]
  },
  {
   "cell_type": "code",
   "execution_count": null,
   "metadata": {},
   "outputs": [],
   "source": [
    "import importlib\n",
    "\n",
    "import config\n",
    "import src.utils.display as display\n",
    "import src.datasets.datasetHelper as datasetHelper\n",
    "import src.datasets.SKDataLoader as SKDataLoader\n",
    "import src.models.ForestModel as ForestModel"
   ]
  },
  {
   "cell_type": "markdown",
   "metadata": {},
   "source": [
    "## Configuration\n",
    "This part will print the folder structure, count the images, and visualize samples from the Normal, Bacteria, and Viral classes."
   ]
  },
  {
   "cell_type": "code",
   "execution_count": null,
   "metadata": {},
   "outputs": [],
   "source": [
    "importlib.reload(config)\n",
    "from config import DISPLAY_CLASS_HELP\n",
    "\n",
    "print(\"Displaying class help:\", DISPLAY_CLASS_HELP)\n",
    "\n",
    "# Print config (editable in config.py)\n",
    "\n",
    "print(\"Dataset structure:\")\n",
    "print(\n",
    "    f\" - NORMAL images: {config.TRAIN_PATH / 'NORMAL'}\")\n",
    "print(\n",
    "    f\" - PNEUMONIA images (Bacteria & virus): {config.TRAIN_PATH / 'PNEUMONIA'}\")"
   ]
  },
  {
   "cell_type": "code",
   "execution_count": null,
   "metadata": {},
   "outputs": [],
   "source": [
    "importlib.reload(display)\n",
    "\n",
    "if DISPLAY_CLASS_HELP:\n",
    "    help(display)\n",
    "\n",
    "display.show_sample_images(5, category=\"train\")"
   ]
  },
  {
   "cell_type": "markdown",
   "metadata": {},
   "source": [
    "## Datasets Preparation\n",
    "This part will detect images with \"virus\" or \"bacteria\" in the filenames, under the PNEUMONIA class.\n"
   ]
  },
  {
   "cell_type": "code",
   "execution_count": null,
   "metadata": {},
   "outputs": [],
   "source": [
    "importlib.reload(datasetHelper)\n",
    "importlib.reload(SKDataLoader)\n",
    "\n",
    "if DISPLAY_CLASS_HELP:\n",
    "    help(datasetHelper)\n",
    "    help(SKDataLoader)\n",
    "\n",
    "(x_train, y_train), (x_test, y_test) = SKDataLoader.load_data()\n"
   ]
  },
  {
   "cell_type": "markdown",
   "metadata": {},
   "source": [
    "## Model Creation"
   ]
  },
  {
   "cell_type": "code",
   "execution_count": null,
   "metadata": {},
   "outputs": [],
   "source": [
    "importlib.reload(ForestModel)\n",
    "\n",
    "if DISPLAY_CLASS_HELP:\n",
    "    help(ForestModel.ForestModel)\n",
    "\n",
    "# Create model\n",
    "model = ForestModel.ForestModel()\n",
    "\n",
    "# Print model summary\n",
    "model.summary()"
   ]
  },
  {
   "cell_type": "markdown",
   "metadata": {},
   "source": [
    "## Model Training"
   ]
  },
  {
   "cell_type": "code",
   "execution_count": null,
   "metadata": {},
   "outputs": [],
   "source": [
    "model.fit(\n",
    "    x_train,\n",
    "    y_train,\n",
    ")"
   ]
  },
  {
   "cell_type": "markdown",
   "metadata": {},
   "source": [
    "## Tests"
   ]
  },
  {
   "cell_type": "code",
   "execution_count": null,
   "metadata": {},
   "outputs": [],
   "source": [
    "importlib.reload(display)\n",
    "\n",
    "# Predict on test data\n",
    "y_pred = model.predict(x_test)\n",
    "y_true = y_test\n",
    "\n",
    "display.show_confusion_matrix(y_true, y_pred, classes=[\n",
    "                              \"NORMAL\", \"BACTERIA\", \"VIRUS\"])"
   ]
  },
  {
   "cell_type": "code",
   "execution_count": null,
   "metadata": {},
   "outputs": [],
   "source": []
  }
 ],
 "metadata": {
  "kernelspec": {
   "display_name": "Python 3",
   "language": "python",
   "name": "python3"
  },
  "language_info": {
   "codemirror_mode": {
    "name": "ipython",
    "version": 3
   },
   "file_extension": ".py",
   "mimetype": "text/x-python",
   "name": "python",
   "nbconvert_exporter": "python",
   "pygments_lexer": "ipython3",
   "version": "3.12.9"
  }
 },
 "nbformat": 4,
 "nbformat_minor": 2
}
